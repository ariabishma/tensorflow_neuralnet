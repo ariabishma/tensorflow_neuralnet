{
  "nbformat": 4,
  "nbformat_minor": 0,
  "metadata": {
    "colab": {
      "name": "tensorflow_deeplearning.ipynb",
      "version": "0.3.2",
      "provenance": [],
      "collapsed_sections": [],
      "include_colab_link": true
    },
    "kernelspec": {
      "name": "python3",
      "display_name": "Python 3"
    }
  },
  "cells": [
    {
      "cell_type": "markdown",
      "metadata": {
        "id": "view-in-github",
        "colab_type": "text"
      },
      "source": [
        "<a href=\"https://colab.research.google.com/github/ariabishma/tensorflow_neuralnet/blob/master/tensorflow_deeplearning.ipynb\" target=\"_parent\"><img src=\"https://colab.research.google.com/assets/colab-badge.svg\" alt=\"Open In Colab\"/></a>"
      ]
    },
    {
      "cell_type": "code",
      "metadata": {
        "id": "OiU2hfYvQXbX",
        "colab_type": "code",
        "colab": {}
      },
      "source": [
        "import numpy as np\n",
        "import pandas as pd\n",
        "import tensorflow as tf\n",
        "import urllib.request as request\n",
        "import matplotlib.pyplot as plt"
      ],
      "execution_count": 0,
      "outputs": []
    },
    {
      "cell_type": "code",
      "metadata": {
        "id": "7rGWTrR7RRZv",
        "colab_type": "code",
        "colab": {}
      },
      "source": [
        "IRIS_TRAIN_URL = \"http://download.tensorflow.org/data/iris_training.csv\"\n",
        "IRIS_TEST_URL = \"http://download.tensorflow.org/data/iris_test.csv\"\n",
        "\n",
        "names = ['sepal-length', 'sepal-width', 'petal-length', 'petal-width', 'species']\n",
        "train = pd.read_csv(IRIS_TRAIN_URL, names=names, skiprows=1)\n",
        "test = pd.read_csv(IRIS_TEST_URL, names=names, skiprows=1)\n",
        "\n",
        "# Train and test input data\n",
        "Xtrain = train.drop(\"species\", axis=1)\n",
        "Xtest = test.drop(\"species\", axis=1)\n",
        "\n",
        "# Encode target values into binary ('one-hot' style) representation\n",
        "ytrain = pd.get_dummies(train.species)\n",
        "ytest = pd.get_dummies(test.species)"
      ],
      "execution_count": 0,
      "outputs": []
    },
    {
      "cell_type": "markdown",
      "metadata": {
        "id": "fqZMz58bs7hH",
        "colab_type": "text"
      },
      "source": [
        ""
      ]
    },
    {
      "cell_type": "code",
      "metadata": {
        "id": "6rDGd2VdTch4",
        "colab_type": "code",
        "colab": {}
      },
      "source": [
        "def create_train_model(hidden_nodes, num_iters):\n",
        "    \n",
        "    # Reset the graph\n",
        "    tf.reset_default_graph()\n",
        "\n",
        "    # Placeholders for input and output data\n",
        "    X = tf.placeholder(shape=(120, 4), dtype=tf.float64, name='X')\n",
        "    y = tf.placeholder(shape=(120, 3), dtype=tf.float64, name='y')\n",
        "\n",
        "    # Variables for two group of weights between the three layers of the network\n",
        "    W1 = tf.Variable(np.random.rand(4, hidden_nodes), dtype=tf.float64)\n",
        "    W2 = tf.Variable(np.random.rand(hidden_nodes, 3), dtype=tf.float64)\n",
        "\n",
        "    # Create the neural net graph\n",
        "    A1 = tf.sigmoid(tf.matmul(X, W1))\n",
        "    y_est = tf.sigmoid(tf.matmul(A1, W2))\n",
        "\n",
        "    # Define a loss function\n",
        "    deltas = tf.square(y_est - y)\n",
        "#     deltas = math.sqrt((y_est - y) ** 2)\n",
        "    loss = tf.reduce_sum(deltas)\n",
        "\n",
        "    # Define a train operation to minimize the loss\n",
        "    optimizer = tf.train.GradientDescentOptimizer(0.005)\n",
        "    train = optimizer.minimize(loss)\n",
        "\n",
        "    # Initialize variables and run session\n",
        "    init = tf.global_variables_initializer()\n",
        "    sess = tf.Session()\n",
        "    sess.run(init)\n",
        "\n",
        "    # Go through num_iters iterations\n",
        "    for i in range(num_iters):\n",
        "        sess.run(train, feed_dict={X: Xtrain, y: ytrain})\n",
        "        loss_plot[hidden_nodes].append(sess.run(loss, feed_dict={X: Xtrain.as_matrix(), y: ytrain.as_matrix()}))\n",
        "        weights1 = sess.run(W1)\n",
        "        weights2 = sess.run(W2)\n",
        "        \n",
        "    print(\"loss (hidden nodes: %d, iterations: %d): %.2f\" % (hidden_nodes, num_iters, loss_plot[hidden_nodes][-1]))\n",
        "    sess.close()\n",
        "    return weights1, weights2"
      ],
      "execution_count": 0,
      "outputs": []
    },
    {
      "cell_type": "code",
      "metadata": {
        "id": "Hvkx6JRuvytQ",
        "colab_type": "code",
        "colab": {}
      },
      "source": [
        ""
      ],
      "execution_count": 0,
      "outputs": []
    },
    {
      "cell_type": "code",
      "metadata": {
        "id": "V0tk08UZe_AH",
        "colab_type": "code",
        "colab": {
          "base_uri": "https://localhost:8080/",
          "height": 610
        },
        "outputId": "348a2a2a-75a7-49a7-8504-de21b2036ef8"
      },
      "source": [
        "# Run the training for 3 different network architectures: (4-5-3) (4-10-3) (4-20-3)\n",
        "\n",
        "# Plot the loss function over iterations\n",
        "num_hidden_nodes = [5, 10, 8]\n",
        "loss_plot = {5: [], 10: [], 8: []}\n",
        "weights1 = {5: None, 10: None, 8: None}\n",
        "weights2 = {5: None, 10: None, 8: None}\n",
        "num_iters = 2000\n",
        "\n",
        "plt.figure(figsize=(12,8))\n",
        "for hidden_nodes in num_hidden_nodes:\n",
        "    weights1[hidden_nodes], weights2[hidden_nodes] = create_train_model(hidden_nodes, num_iters)\n",
        "    plt.plot(range(num_iters), loss_plot[hidden_nodes], label=\"nn: 4-%d-3\" % hidden_nodes)\n",
        "    \n",
        "plt.xlabel('Iteration', fontsize=12)\n",
        "plt.ylabel('Loss', fontsize=12)\n",
        "plt.legend(fontsize=12)"
      ],
      "execution_count": 8,
      "outputs": [
        {
          "output_type": "stream",
          "text": [
            "/usr/local/lib/python3.6/dist-packages/ipykernel_launcher.py:35: FutureWarning: Method .as_matrix will be removed in a future version. Use .values instead.\n"
          ],
          "name": "stderr"
        },
        {
          "output_type": "stream",
          "text": [
            "loss (hidden nodes: 5, iterations: 2000): 39.24\n",
            "loss (hidden nodes: 10, iterations: 2000): 5.55\n",
            "loss (hidden nodes: 8, iterations: 2000): 38.56\n"
          ],
          "name": "stdout"
        },
        {
          "output_type": "execute_result",
          "data": {
            "text/plain": [
              "<matplotlib.legend.Legend at 0x7f4acb9ce588>"
            ]
          },
          "metadata": {
            "tags": []
          },
          "execution_count": 8
        },
        {
          "output_type": "display_data",
          "data": {
            "image/png": "[encoded data removed]",
            "text/plain": [
              "<Figure size 864x576 with 1 Axes>"
            ]
          },
          "metadata": {
            "tags": []
          }
        }
      ]
    },
    {
      "cell_type": "code",
      "metadata": {
        "id": "zr5ICRnC8Qll",
        "colab_type": "code",
        "outputId": "911cb163-2b76-4a73-b016-f7d45f42ac86",
        "colab": {
          "base_uri": "https://localhost:8080/",
          "height": 1000
        }
      },
      "source": [
        "X = tf.placeholder(shape=(30, 4), dtype=tf.float64, name='X')\n",
        "y = tf.placeholder(shape=(30, 3), dtype=tf.float64, name='y')\n",
        "\n",
        "for hidden_nodes in num_hidden_nodes:\n",
        "\n",
        "    # Forward propagation\n",
        "    W1 = tf.Variable(weights1[hidden_nodes])\n",
        "    W2 = tf.Variable(weights2[hidden_nodes])\n",
        "    A1 = tf.sigmoid(tf.matmul(X, W1))\n",
        "    y_est = tf.sigmoid(tf.matmul(A1, W2))\n",
        "\n",
        "    # Calculate the predicted outputs\n",
        "    init = tf.global_variables_initializer()\n",
        "    with tf.Session() as sess:\n",
        "        sess.run(init)\n",
        "        y_est_np = sess.run(y_est, feed_dict={X: Xtest, y: ytest})\n",
        "        tes = sess.run(X, feed_dict={X: Xtest, y: ytest})\n",
        "        print(tes)\n",
        "        print(Xtest)\n",
        "       \n",
        "\n",
        "    # Calculate the prediction accuracy\n",
        "    correct = [estimate.argmax(axis=0) == target.argmax(axis=0) \n",
        "               for estimate, target in zip(y_est_np, ytest.as_matrix())]\n",
        "    accuracy = 100 * sum(correct) / len(correct)\n",
        "    print('Network architecture 4-%d-3, accuracy: %.2f%%' % (hidden_nodes, accuracy))"
      ],
      "execution_count": 10,
      "outputs": [
        {
          "output_type": "stream",
          "text": [
            "[[5.9 3.  4.2 1.5]\n",
            " [6.9 3.1 5.4 2.1]\n",
            " [5.1 3.3 1.7 0.5]\n",
            " [6.  3.4 4.5 1.6]\n",
            " [5.5 2.5 4.  1.3]\n",
            " [6.2 2.9 4.3 1.3]\n",
            " [5.5 4.2 1.4 0.2]\n",
            " [6.3 2.8 5.1 1.5]\n",
            " [5.6 3.  4.1 1.3]\n",
            " [6.7 2.5 5.8 1.8]\n",
            " [7.1 3.  5.9 2.1]\n",
            " [4.3 3.  1.1 0.1]\n",
            " [5.6 2.8 4.9 2. ]\n",
            " [5.5 2.3 4.  1.3]\n",
            " [6.  2.2 4.  1. ]\n",
            " [5.1 3.5 1.4 0.2]\n",
            " [5.7 2.6 3.5 1. ]\n",
            " [4.8 3.4 1.9 0.2]\n",
            " [5.1 3.4 1.5 0.2]\n",
            " [5.7 2.5 5.  2. ]\n",
            " [5.4 3.4 1.7 0.2]\n",
            " [5.6 3.  4.5 1.5]\n",
            " [6.3 2.9 5.6 1.8]\n",
            " [6.3 2.5 4.9 1.5]\n",
            " [5.8 2.7 3.9 1.2]\n",
            " [6.1 3.  4.6 1.4]\n",
            " [5.2 4.1 1.5 0.1]\n",
            " [6.7 3.1 4.7 1.5]\n",
            " [6.7 3.3 5.7 2.5]\n",
            " [6.4 2.9 4.3 1.3]]\n",
            "    sepal-length  sepal-width  petal-length  petal-width\n",
            "0            5.9          3.0           4.2          1.5\n",
            "1            6.9          3.1           5.4          2.1\n",
            "2            5.1          3.3           1.7          0.5\n",
            "3            6.0          3.4           4.5          1.6\n",
            "4            5.5          2.5           4.0          1.3\n",
            "5            6.2          2.9           4.3          1.3\n",
            "6            5.5          4.2           1.4          0.2\n",
            "7            6.3          2.8           5.1          1.5\n",
            "8            5.6          3.0           4.1          1.3\n",
            "9            6.7          2.5           5.8          1.8\n",
            "10           7.1          3.0           5.9          2.1\n",
            "11           4.3          3.0           1.1          0.1\n",
            "12           5.6          2.8           4.9          2.0\n",
            "13           5.5          2.3           4.0          1.3\n",
            "14           6.0          2.2           4.0          1.0\n",
            "15           5.1          3.5           1.4          0.2\n",
            "16           5.7          2.6           3.5          1.0\n",
            "17           4.8          3.4           1.9          0.2\n",
            "18           5.1          3.4           1.5          0.2\n",
            "19           5.7          2.5           5.0          2.0\n",
            "20           5.4          3.4           1.7          0.2\n",
            "21           5.6          3.0           4.5          1.5\n",
            "22           6.3          2.9           5.6          1.8\n",
            "23           6.3          2.5           4.9          1.5\n",
            "24           5.8          2.7           3.9          1.2\n",
            "25           6.1          3.0           4.6          1.4\n",
            "26           5.2          4.1           1.5          0.1\n",
            "27           6.7          3.1           4.7          1.5\n",
            "28           6.7          3.3           5.7          2.5\n",
            "29           6.4          2.9           4.3          1.3\n",
            "Network architecture 4-5-3, accuracy: 56.67%\n",
            "[[5.9 3.  4.2 1.5]\n",
            " [6.9 3.1 5.4 2.1]\n",
            " [5.1 3.3 1.7 0.5]\n",
            " [6.  3.4 4.5 1.6]\n",
            " [5.5 2.5 4.  1.3]\n",
            " [6.2 2.9 4.3 1.3]\n",
            " [5.5 4.2 1.4 0.2]\n",
            " [6.3 2.8 5.1 1.5]\n",
            " [5.6 3.  4.1 1.3]\n",
            " [6.7 2.5 5.8 1.8]\n",
            " [7.1 3.  5.9 2.1]\n",
            " [4.3 3.  1.1 0.1]\n",
            " [5.6 2.8 4.9 2. ]\n",
            " [5.5 2.3 4.  1.3]\n",
            " [6.  2.2 4.  1. ]\n",
            " [5.1 3.5 1.4 0.2]\n",
            " [5.7 2.6 3.5 1. ]\n",
            " [4.8 3.4 1.9 0.2]\n",
            " [5.1 3.4 1.5 0.2]\n",
            " [5.7 2.5 5.  2. ]\n",
            " [5.4 3.4 1.7 0.2]\n",
            " [5.6 3.  4.5 1.5]\n",
            " [6.3 2.9 5.6 1.8]\n",
            " [6.3 2.5 4.9 1.5]\n",
            " [5.8 2.7 3.9 1.2]\n",
            " [6.1 3.  4.6 1.4]\n",
            " [5.2 4.1 1.5 0.1]\n",
            " [6.7 3.1 4.7 1.5]\n",
            " [6.7 3.3 5.7 2.5]\n",
            " [6.4 2.9 4.3 1.3]]\n",
            "    sepal-length  sepal-width  petal-length  petal-width\n",
            "0            5.9          3.0           4.2          1.5\n",
            "1            6.9          3.1           5.4          2.1\n",
            "2            5.1          3.3           1.7          0.5\n",
            "3            6.0          3.4           4.5          1.6\n",
            "4            5.5          2.5           4.0          1.3\n",
            "5            6.2          2.9           4.3          1.3\n",
            "6            5.5          4.2           1.4          0.2\n",
            "7            6.3          2.8           5.1          1.5\n",
            "8            5.6          3.0           4.1          1.3\n",
            "9            6.7          2.5           5.8          1.8\n",
            "10           7.1          3.0           5.9          2.1\n",
            "11           4.3          3.0           1.1          0.1\n",
            "12           5.6          2.8           4.9          2.0\n",
            "13           5.5          2.3           4.0          1.3\n",
            "14           6.0          2.2           4.0          1.0\n",
            "15           5.1          3.5           1.4          0.2\n",
            "16           5.7          2.6           3.5          1.0\n",
            "17           4.8          3.4           1.9          0.2\n",
            "18           5.1          3.4           1.5          0.2\n",
            "19           5.7          2.5           5.0          2.0\n",
            "20           5.4          3.4           1.7          0.2\n",
            "21           5.6          3.0           4.5          1.5\n",
            "22           6.3          2.9           5.6          1.8\n",
            "23           6.3          2.5           4.9          1.5\n",
            "24           5.8          2.7           3.9          1.2\n",
            "25           6.1          3.0           4.6          1.4\n",
            "26           5.2          4.1           1.5          0.1\n",
            "27           6.7          3.1           4.7          1.5\n",
            "28           6.7          3.3           5.7          2.5\n",
            "29           6.4          2.9           4.3          1.3\n",
            "Network architecture 4-10-3, accuracy: 96.67%\n",
            "[[5.9 3.  4.2 1.5]\n",
            " [6.9 3.1 5.4 2.1]\n",
            " [5.1 3.3 1.7 0.5]\n",
            " [6.  3.4 4.5 1.6]\n",
            " [5.5 2.5 4.  1.3]\n",
            " [6.2 2.9 4.3 1.3]\n",
            " [5.5 4.2 1.4 0.2]\n",
            " [6.3 2.8 5.1 1.5]\n",
            " [5.6 3.  4.1 1.3]\n",
            " [6.7 2.5 5.8 1.8]\n",
            " [7.1 3.  5.9 2.1]\n",
            " [4.3 3.  1.1 0.1]\n",
            " [5.6 2.8 4.9 2. ]\n",
            " [5.5 2.3 4.  1.3]\n",
            " [6.  2.2 4.  1. ]\n",
            " [5.1 3.5 1.4 0.2]\n",
            " [5.7 2.6 3.5 1. ]\n",
            " [4.8 3.4 1.9 0.2]\n",
            " [5.1 3.4 1.5 0.2]\n",
            " [5.7 2.5 5.  2. ]\n",
            " [5.4 3.4 1.7 0.2]\n",
            " [5.6 3.  4.5 1.5]\n",
            " [6.3 2.9 5.6 1.8]\n",
            " [6.3 2.5 4.9 1.5]\n",
            " [5.8 2.7 3.9 1.2]\n",
            " [6.1 3.  4.6 1.4]\n",
            " [5.2 4.1 1.5 0.1]\n",
            " [6.7 3.1 4.7 1.5]\n",
            " [6.7 3.3 5.7 2.5]\n",
            " [6.4 2.9 4.3 1.3]]\n",
            "    sepal-length  sepal-width  petal-length  petal-width\n",
            "0            5.9          3.0           4.2          1.5\n",
            "1            6.9          3.1           5.4          2.1\n",
            "2            5.1          3.3           1.7          0.5\n",
            "3            6.0          3.4           4.5          1.6\n",
            "4            5.5          2.5           4.0          1.3\n",
            "5            6.2          2.9           4.3          1.3\n",
            "6            5.5          4.2           1.4          0.2\n",
            "7            6.3          2.8           5.1          1.5\n",
            "8            5.6          3.0           4.1          1.3\n",
            "9            6.7          2.5           5.8          1.8\n",
            "10           7.1          3.0           5.9          2.1\n",
            "11           4.3          3.0           1.1          0.1\n",
            "12           5.6          2.8           4.9          2.0\n",
            "13           5.5          2.3           4.0          1.3\n",
            "14           6.0          2.2           4.0          1.0\n",
            "15           5.1          3.5           1.4          0.2\n",
            "16           5.7          2.6           3.5          1.0\n",
            "17           4.8          3.4           1.9          0.2\n",
            "18           5.1          3.4           1.5          0.2\n",
            "19           5.7          2.5           5.0          2.0\n",
            "20           5.4          3.4           1.7          0.2\n",
            "21           5.6          3.0           4.5          1.5\n",
            "22           6.3          2.9           5.6          1.8\n",
            "23           6.3          2.5           4.9          1.5\n",
            "24           5.8          2.7           3.9          1.2\n",
            "25           6.1          3.0           4.6          1.4\n",
            "26           5.2          4.1           1.5          0.1\n",
            "27           6.7          3.1           4.7          1.5\n",
            "28           6.7          3.3           5.7          2.5\n",
            "29           6.4          2.9           4.3          1.3\n",
            "Network architecture 4-8-3, accuracy: 56.67%\n"
          ],
          "name": "stdout"
        },
        {
          "output_type": "stream",
          "text": [
            "/usr/local/lib/python3.6/dist-packages/ipykernel_launcher.py:24: FutureWarning: Method .as_matrix will be removed in a future version. Use .values instead.\n"
          ],
          "name": "stderr"
        }
      ]
    },
    {
      "cell_type": "code",
      "metadata": {
        "id": "ebxj5UWw_DPb",
        "colab_type": "code",
        "colab": {}
      },
      "source": [
        ""
      ],
      "execution_count": 0,
      "outputs": []
    }
  ]
}